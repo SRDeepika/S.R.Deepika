{
  "nbformat": 4,
  "nbformat_minor": 0,
  "metadata": {
    "colab": {
      "provenance": [],
      "authorship_tag": "ABX9TyM+sRWgRii9RjS3BI2M+Odj",
      "include_colab_link": true
    },
    "kernelspec": {
      "name": "python3",
      "display_name": "Python 3"
    },
    "language_info": {
      "name": "python"
    }
  },
  "cells": [
    {
      "cell_type": "markdown",
      "metadata": {
        "id": "view-in-github",
        "colab_type": "text"
      },
      "source": [
        "<a href=\"https://colab.research.google.com/github/SRDeepika/S.R.Deepika/blob/main/program_4_py.ipynb\" target=\"_parent\"><img src=\"https://colab.research.google.com/assets/colab-badge.svg\" alt=\"Open In Colab\"/></a>"
      ]
    },
    {
      "cell_type": "code",
      "source": [
        "numbers = [1, 2, 8, 9, 12, 46, 76, 82, 15, 20, 30]\n",
        "\n",
        "\n",
        "multiples_count = {i: 0 for i in range(1, 10)}\n",
        "\n",
        "\n",
        "for i in range(1, 10):\n",
        "    for num in numbers:\n",
        "        if num % i == 0:\n",
        "            multiples_count[i] += 1\n",
        "\n",
        "print(\"Output:\")\n",
        "print(multiples_count)\n"
      ],
      "metadata": {
        "colab": {
          "base_uri": "https://localhost:8080/"
        },
        "id": "aVfhpR0azy7k",
        "outputId": "3f53466d-3d78-40dc-f1a0-ecbac1eba43b"
      },
      "execution_count": 10,
      "outputs": [
        {
          "output_type": "stream",
          "name": "stdout",
          "text": [
            "Output:\n",
            "{1: 11, 2: 8, 3: 4, 4: 4, 5: 3, 6: 2, 7: 0, 8: 1, 9: 1}\n"
          ]
        }
      ]
    }
  ]
}