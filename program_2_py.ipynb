{
  "nbformat": 4,
  "nbformat_minor": 0,
  "metadata": {
    "colab": {
      "provenance": [],
      "authorship_tag": "ABX9TyMhtS3UkVuBkIYkiB/xmomK",
      "include_colab_link": true
    },
    "kernelspec": {
      "name": "python3",
      "display_name": "Python 3"
    },
    "language_info": {
      "name": "python"
    }
  },
  "cells": [
    {
      "cell_type": "markdown",
      "metadata": {
        "id": "view-in-github",
        "colab_type": "text"
      },
      "source": [
        "<a href=\"https://colab.research.google.com/github/SRDeepika/S.R.Deepika/blob/main/program_2_py.ipynb\" target=\"_parent\"><img src=\"https://colab.research.google.com/assets/colab-badge.svg\" alt=\"Open In Colab\"/></a>"
      ]
    },
    {
      "cell_type": "code",
      "source": [
        "a = int(input(\"Enter a number (a): \"))\n",
        "\n",
        "# Generate and print the series: 1, 3, 5, 7, ..., (2a - 1)\n",
        "odd_numbers = [2 * i + 1 for i in range(a)]\n",
        "print(\"Output:\", ', '.join(map(str, odd_numbers)))\n"
      ],
      "metadata": {
        "colab": {
          "base_uri": "https://localhost:8080/"
        },
        "id": "WIjXKfmjy0Lh",
        "outputId": "49700328-037e-4d4f-a86e-21cbb3dac682"
      },
      "execution_count": 8,
      "outputs": [
        {
          "output_type": "stream",
          "name": "stdout",
          "text": [
            "Enter a number (a): 4\n",
            "Output: 1, 3, 5, 7\n"
          ]
        }
      ]
    }
  ]
}