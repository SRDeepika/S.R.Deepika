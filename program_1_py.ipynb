{
  "nbformat": 4,
  "nbformat_minor": 0,
  "metadata": {
    "colab": {
      "provenance": [],
      "authorship_tag": "ABX9TyMe53AWY/k1+WIFNftcL0vu",
      "include_colab_link": true
    },
    "kernelspec": {
      "name": "python3",
      "display_name": "Python 3"
    },
    "language_info": {
      "name": "python"
    }
  },
  "cells": [
    {
      "cell_type": "markdown",
      "metadata": {
        "id": "view-in-github",
        "colab_type": "text"
      },
      "source": [
        "<a href=\"https://colab.research.google.com/github/SRDeepika/S.R.Deepika/blob/main/program_1_py.ipynb\" target=\"_parent\"><img src=\"https://colab.research.google.com/assets/colab-badge.svg\" alt=\"Open In Colab\"/></a>"
      ]
    },
    {
      "cell_type": "code",
      "source": [
        "class Calculator:\n",
        "    def __init__(self, a: float, b: float, operation: str):\n",
        "        self.a = a\n",
        "        self.b = b\n",
        "        self.operation = operation.lower()\n",
        "\n",
        "    def calculate(self):\n",
        "        if self.operation == \"add\":\n",
        "            return self.a + self.b\n",
        "        elif self.operation == \"sub\":\n",
        "            return self.a - self.b\n",
        "        elif self.operation == \"mul\":\n",
        "            return self.a * self.b\n",
        "        elif self.operation == \"div\":\n",
        "            if self.b != 0:\n",
        "                return self.a / self.b\n",
        "            else:\n",
        "                return \"Error: Division by zero\"\n",
        "        else:\n",
        "            return \"Error: Invalid operation\"\n",
        "\n",
        "\n",
        "a = float(input(\"Enter first number (a): \"))\n",
        "b = float(input(\"Enter second number (b): \"))\n",
        "operation = input(\"Enter operation (add, sub, mul, div): \")\n",
        "\n",
        "calc = Calculator(a, b, operation)\n",
        "result = calc.calculate()\n",
        "print(\"Result:\", result)\n"
      ],
      "metadata": {
        "colab": {
          "base_uri": "https://localhost:8080/"
        },
        "id": "yQUlOTVrw3Nq",
        "outputId": "caffab13-d943-42ae-8e15-706bf28d7e06"
      },
      "execution_count": 7,
      "outputs": [
        {
          "output_type": "stream",
          "name": "stdout",
          "text": [
            "Enter first number (a): 12.5\n",
            "Enter second number (b): 3.5\n",
            "Enter operation (add, sub, mul, div): mul\n",
            "Result: 43.75\n"
          ]
        }
      ]
    }
  ]
}