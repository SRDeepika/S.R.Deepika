{
  "nbformat": 4,
  "nbformat_minor": 0,
  "metadata": {
    "colab": {
      "provenance": [],
      "authorship_tag": "ABX9TyMAKa0SWoq0Glldq8Svqgqs",
      "include_colab_link": true
    },
    "kernelspec": {
      "name": "python3",
      "display_name": "Python 3"
    },
    "language_info": {
      "name": "python"
    }
  },
  "cells": [
    {
      "cell_type": "markdown",
      "metadata": {
        "id": "view-in-github",
        "colab_type": "text"
      },
      "source": [
        "<a href=\"https://colab.research.google.com/github/SRDeepika/S.R.Deepika/blob/main/program_3_py.ipynb\" target=\"_parent\"><img src=\"https://colab.research.google.com/assets/colab-badge.svg\" alt=\"Open In Colab\"/></a>"
      ]
    },
    {
      "cell_type": "code",
      "source": [
        "a = int(input(\"Enter a number (a): \"))\n",
        "\n",
        "\n",
        "if a % 2 == 0:\n",
        "    a -= 1\n",
        "\n",
        "\n",
        "odd_numbers = [2 * i + 1 for i in range(a)]\n",
        "print(\"Output:\", ', '.join(map(str, odd_numbers)))\n"
      ],
      "metadata": {
        "id": "vI4t0qnMzKcp",
        "outputId": "7091bed3-1d34-4def-bf0b-84a1a88ce1ff",
        "colab": {
          "base_uri": "https://localhost:8080/"
        }
      },
      "execution_count": 9,
      "outputs": [
        {
          "output_type": "stream",
          "name": "stdout",
          "text": [
            "Enter a number (a): 2\n",
            "Output: 1\n"
          ]
        }
      ]
    }
  ]
}